{
 "cells": [
  {
   "cell_type": "code",
   "execution_count": 1,
   "id": "20b0fadb",
   "metadata": {},
   "outputs": [],
   "source": [
    "import numpy as np\n",
    "import os\n",
    "import pandas as pd\n",
    "# from sentence_transformers import SentenceTransformer, util\n",
    "import re\n",
    "# from sklearn.metrics.pairwise import cosine_similarity\n",
    "\n",
    "import csv\n",
    "import pickle\n",
    "import time\n",
    "\n",
    "\n",
    "# import tensorflow as tf"
   ]
  },
  {
   "cell_type": "code",
   "execution_count": 2,
   "id": "3c3e2e60",
   "metadata": {},
   "outputs": [],
   "source": [
    "\n",
    "def cleaning_data(qc_data):\n",
    "    app[\"description\"] = app[\"description\"].apply(lambda x : re.sub(r'(<)(.*?)(>)','',x))#去除<.*>标签 \n",
    "    app[\"description\"] = app[\"description\"].apply(lambda x : re.sub(r'(【)(.*?)(】)','',x))#去除<.*>标签 ，应该还可以加一些括号类！！《\n",
    "    app[\"description\"] = app[\"description\"].apply(lambda x : re.sub(r'(《)(.*?)(》)','',x))\n",
    "#     app['description'] = app['description'].str.replace('=-', ' ')\n",
    "#     app['description'] = app['description'].str.replace('=---', ' ')\n",
    "#     app['description'] = app['description'].str.replace('=+', ' ')\n",
    "#     app['description'] = app['description'].str.replace('=--', ' ')\n",
    "#     app['description'] = app['description'].str.replace('=', ' ')\n",
    "    app[\"description\"] = app[\"description\"].apply(lambda x : re.sub(r'http[s]?://(?:[a-zA-Z]|[0-9]|[$-_@.&+]|[!*\\(\\),]|(?:%[0-9a-fA-F][0-9a-fA-F]))+', '', x))#去除https：wwww.xxxx.com\n",
    "    app[\"description\"] = app[\"description\"].apply(lambda x : re.sub(r'1\\d{10}|(\\d{3,4})-(\\d{7,8})-\\d{3,4}|\\d{3,4}-\\d{7,8}|\\d{9}|\\d{8}|\\d{10}', '', x))#去除手机号类\n",
    "    app[\"description\"] = app[\"description\"].apply(lambda x : re.sub(r'\\w+([-+.]\\w+)*@\\w+([-.]\\w+)*.\\w+([-.]\\w+)*.','', x))#去除邮箱\n",
    "    app[\"description\"] = app[\"description\"].apply(lambda x : re.sub('|'.join(qc_data),'.',x))#去除特殊字符\n",
    "    return app\n",
    "\n",
    "def segmenting_sentences(fj_data):\n",
    "    app1 = app.assign(description=app.description.str.split('['+''.join(fj_data)+']')).explode('description')#切分句子，切分后不会保留切分符号\n",
    "    app1.reset_index()\n",
    "    #有一些\\n\n",
    "    return app1\n",
    "\n",
    "def remove_redundant_lines(dy_data,bh_data):\n",
    "    # 替换\\n换行符及空格，返回非空格的行，即去除空格行：\n",
    "    # dropna无法使用原因是因为处理后为中文字符串的空格并非nan\n",
    "    app2 = app1.assign(description=app1.description.str.replace('\\n','').replace('  ','').str.strip())#将换行符和空格替换为空\n",
    "    app2= app2[app2[\"description\"].str.contains('[\\d\\w]+')] # 匹配任意数字或字符\n",
    "    app2 = app2[~app2['description'].isin(dy_data)] # 去掉description等于dy_data列表中元素的行\n",
    "    app2 = app2[~app2[\"description\"].str.contains('|'.join(bh_data))] # 去掉description包含dy_data列表中元素的行\n",
    "#     app2[app2[\"description\"].map(len)>5]\n",
    "    app2=app2[app2[\"description\"].str.len()>5] # 长度小于5的不要了(因为有些分完很短感觉没用)\n",
    "    #    app2 = app[\"description\"].str.apply(lambda x: len(x) )  不知道用lambda x会不会速度快一点？？？？？？\n",
    "    return app2\n",
    "def save_files(app2,save_name):\n",
    "    app2.to_csv(save_name,encoding='utf-8-sig')\n"
   ]
  },
  {
   "cell_type": "code",
   "execution_count": 4,
   "id": "838ae945",
   "metadata": {},
   "outputs": [
    {
     "data": {
      "text/plain": [
       "pandas.core.series.Series"
      ]
     },
     "execution_count": 4,
     "metadata": {},
     "output_type": "execute_result"
    }
   ],
   "source": [
    "\n",
    "app_data = pd.read_csv('app2000.csv' )\n",
    "app = app_data.iloc[0:1, :]\n",
    "type(app[\"description\"])\n"
   ]
  },
  {
   "cell_type": "code",
   "execution_count": 3,
   "id": "43f9bbcd",
   "metadata": {
    "scrolled": true
   },
   "outputs": [
    {
     "name": "stderr",
     "output_type": "stream",
     "text": [
      "C:\\Users\\Justin\\AppData\\Local\\Temp\\ipykernel_2604\\2006770839.py:2: SettingWithCopyWarning: \n",
      "A value is trying to be set on a copy of a slice from a DataFrame.\n",
      "Try using .loc[row_indexer,col_indexer] = value instead\n",
      "\n",
      "See the caveats in the documentation: https://pandas.pydata.org/pandas-docs/stable/user_guide/indexing.html#returning-a-view-versus-a-copy\n",
      "  app[\"description\"] = app[\"description\"].apply(lambda x : re.sub(r'(<)(.*?)(>)','',x))#去除<.*>标签\n",
      "C:\\Users\\Justin\\AppData\\Local\\Temp\\ipykernel_2604\\2006770839.py:3: SettingWithCopyWarning: \n",
      "A value is trying to be set on a copy of a slice from a DataFrame.\n",
      "Try using .loc[row_indexer,col_indexer] = value instead\n",
      "\n",
      "See the caveats in the documentation: https://pandas.pydata.org/pandas-docs/stable/user_guide/indexing.html#returning-a-view-versus-a-copy\n",
      "  app[\"description\"] = app[\"description\"].apply(lambda x : re.sub(r'(【)(.*?)(】)','',x))#去除<.*>标签 ，应该还可以加一些括号类！！《\n",
      "C:\\Users\\Justin\\AppData\\Local\\Temp\\ipykernel_2604\\2006770839.py:4: SettingWithCopyWarning: \n",
      "A value is trying to be set on a copy of a slice from a DataFrame.\n",
      "Try using .loc[row_indexer,col_indexer] = value instead\n",
      "\n",
      "See the caveats in the documentation: https://pandas.pydata.org/pandas-docs/stable/user_guide/indexing.html#returning-a-view-versus-a-copy\n",
      "  app[\"description\"] = app[\"description\"].apply(lambda x : re.sub(r'(《)(.*?)(》)','',x))\n",
      "C:\\Users\\Justin\\AppData\\Local\\Temp\\ipykernel_2604\\2006770839.py:10: SettingWithCopyWarning: \n",
      "A value is trying to be set on a copy of a slice from a DataFrame.\n",
      "Try using .loc[row_indexer,col_indexer] = value instead\n",
      "\n",
      "See the caveats in the documentation: https://pandas.pydata.org/pandas-docs/stable/user_guide/indexing.html#returning-a-view-versus-a-copy\n",
      "  app[\"description\"] = app[\"description\"].apply(lambda x : re.sub(r'http[s]?://(?:[a-zA-Z]|[0-9]|[$-_@.&+]|[!*\\(\\),]|(?:%[0-9a-fA-F][0-9a-fA-F]))+', '', x))#去除https：wwww.xxxx.com\n",
      "C:\\Users\\Justin\\AppData\\Local\\Temp\\ipykernel_2604\\2006770839.py:11: SettingWithCopyWarning: \n",
      "A value is trying to be set on a copy of a slice from a DataFrame.\n",
      "Try using .loc[row_indexer,col_indexer] = value instead\n",
      "\n",
      "See the caveats in the documentation: https://pandas.pydata.org/pandas-docs/stable/user_guide/indexing.html#returning-a-view-versus-a-copy\n",
      "  app[\"description\"] = app[\"description\"].apply(lambda x : re.sub(r'1\\d{10}|(\\d{3,4})-(\\d{7,8})-\\d{3,4}|\\d{3,4}-\\d{7,8}|\\d{9}|\\d{8}|\\d{10}', '', x))#去除手机号类\n",
      "C:\\Users\\Justin\\AppData\\Local\\Temp\\ipykernel_2604\\2006770839.py:12: SettingWithCopyWarning: \n",
      "A value is trying to be set on a copy of a slice from a DataFrame.\n",
      "Try using .loc[row_indexer,col_indexer] = value instead\n",
      "\n",
      "See the caveats in the documentation: https://pandas.pydata.org/pandas-docs/stable/user_guide/indexing.html#returning-a-view-versus-a-copy\n",
      "  app[\"description\"] = app[\"description\"].apply(lambda x : re.sub(r'\\w+([-+.]\\w+)*@\\w+([-.]\\w+)*.\\w+([-.]\\w+)*.','', x))#去除邮箱\n",
      "C:\\Users\\Justin\\AppData\\Local\\Temp\\ipykernel_2604\\2006770839.py:13: SettingWithCopyWarning: \n",
      "A value is trying to be set on a copy of a slice from a DataFrame.\n",
      "Try using .loc[row_indexer,col_indexer] = value instead\n",
      "\n",
      "See the caveats in the documentation: https://pandas.pydata.org/pandas-docs/stable/user_guide/indexing.html#returning-a-view-versus-a-copy\n",
      "  app[\"description\"] = app[\"description\"].apply(lambda x : re.sub('|'.join(qc_data),'.',x))#去除特殊字符\n",
      "D:\\Anaconda\\lib\\site-packages\\pandas\\core\\strings\\object_array.py:331: FutureWarning: Possible set difference at position 23\n",
      "  new_pat = re.compile(pat)\n",
      "D:\\Anaconda\\lib\\site-packages\\pandas\\core\\strings\\object_array.py:331: FutureWarning: Possible set difference at position 24\n",
      "  new_pat = re.compile(pat)\n",
      "C:\\Users\\Justin\\AppData\\Local\\Temp\\ipykernel_2604\\2006770839.py:2: SettingWithCopyWarning: \n",
      "A value is trying to be set on a copy of a slice from a DataFrame.\n",
      "Try using .loc[row_indexer,col_indexer] = value instead\n",
      "\n",
      "See the caveats in the documentation: https://pandas.pydata.org/pandas-docs/stable/user_guide/indexing.html#returning-a-view-versus-a-copy\n",
      "  app[\"description\"] = app[\"description\"].apply(lambda x : re.sub(r'(<)(.*?)(>)','',x))#去除<.*>标签\n",
      "C:\\Users\\Justin\\AppData\\Local\\Temp\\ipykernel_2604\\2006770839.py:3: SettingWithCopyWarning: \n",
      "A value is trying to be set on a copy of a slice from a DataFrame.\n",
      "Try using .loc[row_indexer,col_indexer] = value instead\n",
      "\n",
      "See the caveats in the documentation: https://pandas.pydata.org/pandas-docs/stable/user_guide/indexing.html#returning-a-view-versus-a-copy\n",
      "  app[\"description\"] = app[\"description\"].apply(lambda x : re.sub(r'(【)(.*?)(】)','',x))#去除<.*>标签 ，应该还可以加一些括号类！！《\n",
      "C:\\Users\\Justin\\AppData\\Local\\Temp\\ipykernel_2604\\2006770839.py:4: SettingWithCopyWarning: \n",
      "A value is trying to be set on a copy of a slice from a DataFrame.\n",
      "Try using .loc[row_indexer,col_indexer] = value instead\n",
      "\n",
      "See the caveats in the documentation: https://pandas.pydata.org/pandas-docs/stable/user_guide/indexing.html#returning-a-view-versus-a-copy\n",
      "  app[\"description\"] = app[\"description\"].apply(lambda x : re.sub(r'(《)(.*?)(》)','',x))\n",
      "C:\\Users\\Justin\\AppData\\Local\\Temp\\ipykernel_2604\\2006770839.py:10: SettingWithCopyWarning: \n",
      "A value is trying to be set on a copy of a slice from a DataFrame.\n",
      "Try using .loc[row_indexer,col_indexer] = value instead\n",
      "\n",
      "See the caveats in the documentation: https://pandas.pydata.org/pandas-docs/stable/user_guide/indexing.html#returning-a-view-versus-a-copy\n",
      "  app[\"description\"] = app[\"description\"].apply(lambda x : re.sub(r'http[s]?://(?:[a-zA-Z]|[0-9]|[$-_@.&+]|[!*\\(\\),]|(?:%[0-9a-fA-F][0-9a-fA-F]))+', '', x))#去除https：wwww.xxxx.com\n",
      "C:\\Users\\Justin\\AppData\\Local\\Temp\\ipykernel_2604\\2006770839.py:11: SettingWithCopyWarning: \n",
      "A value is trying to be set on a copy of a slice from a DataFrame.\n",
      "Try using .loc[row_indexer,col_indexer] = value instead\n",
      "\n",
      "See the caveats in the documentation: https://pandas.pydata.org/pandas-docs/stable/user_guide/indexing.html#returning-a-view-versus-a-copy\n",
      "  app[\"description\"] = app[\"description\"].apply(lambda x : re.sub(r'1\\d{10}|(\\d{3,4})-(\\d{7,8})-\\d{3,4}|\\d{3,4}-\\d{7,8}|\\d{9}|\\d{8}|\\d{10}', '', x))#去除手机号类\n",
      "C:\\Users\\Justin\\AppData\\Local\\Temp\\ipykernel_2604\\2006770839.py:12: SettingWithCopyWarning: \n",
      "A value is trying to be set on a copy of a slice from a DataFrame.\n",
      "Try using .loc[row_indexer,col_indexer] = value instead\n",
      "\n",
      "See the caveats in the documentation: https://pandas.pydata.org/pandas-docs/stable/user_guide/indexing.html#returning-a-view-versus-a-copy\n",
      "  app[\"description\"] = app[\"description\"].apply(lambda x : re.sub(r'\\w+([-+.]\\w+)*@\\w+([-.]\\w+)*.\\w+([-.]\\w+)*.','', x))#去除邮箱\n",
      "C:\\Users\\Justin\\AppData\\Local\\Temp\\ipykernel_2604\\2006770839.py:13: SettingWithCopyWarning: \n",
      "A value is trying to be set on a copy of a slice from a DataFrame.\n",
      "Try using .loc[row_indexer,col_indexer] = value instead\n",
      "\n",
      "See the caveats in the documentation: https://pandas.pydata.org/pandas-docs/stable/user_guide/indexing.html#returning-a-view-versus-a-copy\n",
      "  app[\"description\"] = app[\"description\"].apply(lambda x : re.sub('|'.join(qc_data),'.',x))#去除特殊字符\n"
     ]
    }
   ],
   "source": [
    "app_data = pd.read_csv('app2000.csv' )\n",
    "\n",
    "# app_data = app_data.loc[5000:7000]\n",
    "\n",
    "row_num = app_data.shape[0]\n",
    "save_num = 1000 #没次处理的行数（自定义，觉得一次一万行应该可以），防止死机，这样每次都新存一个csv，最终拼接起来？\n",
    "\n",
    "for start_index,end_index in zip(range(0,row_num,save_num),range(save_num,row_num+save_num,save_num)):\n",
    "    app = app_data.iloc[start_index:end_index, :]\n",
    "\n",
    "    # # 第一步：清洗数据\n",
    "    qc_data = ['&gt', '邮箱：', '■', '=-','💎','💖','🏆', '👧🏻','💄','🌟','✨','⚽','🔥'\n",
    "               ,'⭐','__________________________________________','—','——','▲','◆','・','✔','='\n",
    "               ,'=-','=---','=--','=+','=----']  # 列表1：把想要去除的字符串放到这个列表中去除, (去除字符，not whole sentence, unlike below，比如 “邮箱”这两个字很常见，\n",
    "    app = cleaning_data(qc_data)\n",
    "\n",
    "    # # 第二步：分句处理\n",
    "    fj_data = [';', '!', '?', '●', '•', '！', '!', '*', '✓', '【', '；', '✓', '★','。','.','✔️','=+','=-','=---','➤','®']  # 列表2：（还需补充,用来分割的符号）把想要变成句号的特殊放在这个列表中进行替换，\n",
    "    app1 = segmenting_sentences(fj_data)\n",
    "\n",
    "    # # 第三步：去掉多余行\n",
    "    dy_data = ['视觉革新', '品质升级','·&nbsp','Facebook:','Twitter:','Website:','updates','youtube']  # 列表3：若切分好句子后的description值为列表元素值，则删除该行，（delete whole sentence，必须精确匹配，unlike above）\n",
    "    bh_data = ['取消订阅：', '客服热线','iPad','神马？','com/','」','iPhone','订阅','穿越火线','Instagram']  # 列表4：若切分好句子后的description值“”包含\"\"列表元素值，则删除该行，（if contain this, delete whole sentence/row）\n",
    "    app2 = remove_redundant_lines(dy_data,bh_data)\n",
    "\n",
    "    # # 第四步：保存文件\n",
    "    save_files(app2,save_name=f'{start_index}'+'-'+f'{end_index-1}.csv')# 文件名为0-10000、10001-20000"
   ]
  },
  {
   "cell_type": "code",
   "execution_count": 25,
   "id": "0d7bf706",
   "metadata": {},
   "outputs": [
    {
     "data": {
      "text/plain": [
       "(3126, 4)"
      ]
     },
     "execution_count": 25,
     "metadata": {},
     "output_type": "execute_result"
    }
   ],
   "source": [
    "app2.shape #某两百行变成了1800行"
   ]
  },
  {
   "cell_type": "code",
   "execution_count": null,
   "id": "783565b2",
   "metadata": {},
   "outputs": [],
   "source": []
  }
 ],
 "metadata": {
  "kernelspec": {
   "display_name": "Python 3 (ipykernel)",
   "language": "python",
   "name": "python3"
  },
  "language_info": {
   "codemirror_mode": {
    "name": "ipython",
    "version": 3
   },
   "file_extension": ".py",
   "mimetype": "text/x-python",
   "name": "python",
   "nbconvert_exporter": "python",
   "pygments_lexer": "ipython3",
   "version": "3.8.13"
  }
 },
 "nbformat": 4,
 "nbformat_minor": 5
}
